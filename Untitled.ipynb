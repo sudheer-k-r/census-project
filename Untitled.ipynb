{
 "cells": [
  {
   "cell_type": "code",
   "execution_count": null,
   "id": "68c8d282",
   "metadata": {},
   "outputs": [],
   "source": [
    "Ts_dis = pd.read_csv(\"Telangana.txt\", sep= ' ', header=None, names=[\"name\"])\n",
    "\n",
    "La_dis =[\"Leh(Ladakh)\",\"Kargil\"]\n",
    "\n",
    "dis_list =  Ts_dis[\"name\"].tolist()\n",
    "\n",
    "Ts_index = census_df4.loc[census_df4['District'].isin(dis_list)].index\n",
    "La_index = census_df4.loc[census_df4['District'].isin(La_dis)].index\n",
    "\n",
    "census_df4.loc[Ts_index,[\"State/UT\"]] =\"Telangana\"\n",
    "census_df4.loc[La_index,[\"State/UT\"]] =\"Laddakh\""
   ]
  }
 ],
 "metadata": {
  "kernelspec": {
   "display_name": "Python 3 (ipykernel)",
   "language": "python",
   "name": "python3"
  },
  "language_info": {
   "codemirror_mode": {
    "name": "ipython",
    "version": 3
   },
   "file_extension": ".py",
   "mimetype": "text/x-python",
   "name": "python",
   "nbconvert_exporter": "python",
   "pygments_lexer": "ipython3",
   "version": "3.9.13"
  }
 },
 "nbformat": 4,
 "nbformat_minor": 5
}
